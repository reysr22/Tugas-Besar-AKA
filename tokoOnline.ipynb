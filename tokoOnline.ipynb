{
  "cells": [
    {
      "cell_type": "code",
      "execution_count": null,
      "metadata": {
        "id": "S9ve8H_QZ7lj"
      },
      "outputs": [],
      "source": [
        "import random\n",
        "import time\n",
        "import matplotlib.pyplot as plt\n",
        "import seaborn as sns\n",
        "import pandas as pd"
      ]
    },
    {
      "cell_type": "code",
      "execution_count": 2,
      "metadata": {
        "id": "jdzthY50Z7ll"
      },
      "outputs": [],
      "source": [
        "# Definisi kelas Barang\n",
        "class Barang:\n",
        "    def __init__(self, nama, kategori, stok):\n",
        "        self.nama = nama\n",
        "        self.kategori = kategori\n",
        "        self.stok = stok\n",
        "\n",
        "# Fungsi untuk generate barang acak\n",
        "def generate_random_barang(n):\n",
        "    kategori = [\"elektronik\", \"pakaian\", \"makanan\"]\n",
        "    barang = []\n",
        "    for i in range(1, n + 1):\n",
        "        nama = f\"Barang{i}\"\n",
        "        kategori_terpilih = random.choice(kategori)\n",
        "        stok = random.randint(1, 1000)  # Random stok barang\n",
        "        barang.append(Barang(nama, kategori_terpilih, stok))\n",
        "    return barang\n",
        "\n"
      ]
    },
    {
      "cell_type": "code",
      "execution_count": 3,
      "metadata": {
        "id": "lPUDxlepZ7ll"
      },
      "outputs": [],
      "source": [
        "# Quick Sort (Pendekatan Rekursif)\n",
        "def quick_sort(barang):\n",
        "    if len(barang) <= 1:\n",
        "        return barang\n",
        "\n",
        "    pivot = barang[0].stok\n",
        "    less_pivot = [x for x in barang[1:] if x.stok <= pivot]\n",
        "    greater_pivot = [x for x in barang[1:] if x.stok > pivot]\n",
        "\n",
        "    return quick_sort(greater_pivot) + [barang[0]] + quick_sort(less_pivot)\n",
        "\n",
        "# Selection Sort (Pendekatan Iteratif)\n",
        "def selection_sort(barang):\n",
        "    n = len(barang)\n",
        "    for i in range(n - 1):\n",
        "        max_idx = i\n",
        "        for j in range(i + 1, n):\n",
        "            if barang[j].stok > barang[max_idx].stok:\n",
        "                max_idx = j\n",
        "        barang[i], barang[max_idx] = barang[max_idx], barang[i]\n",
        "\n",
        "#"
      ]
    },
    {
      "cell_type": "code",
      "execution_count": 4,
      "metadata": {
        "id": "yYZBKqQyZ7lm"
      },
      "outputs": [],
      "source": [
        "# Fungsi untuk mengkategorikan barang\n",
        "def categorize_barang(barang):\n",
        "    elektronik = []\n",
        "    pakaian = []\n",
        "    makanan = []\n",
        "\n",
        "    for b in barang:\n",
        "        if b.kategori == \"elektronik\":\n",
        "            elektronik.append(b)\n",
        "        elif b.kategori == \"pakaian\":\n",
        "            pakaian.append(b)\n",
        "        else:\n",
        "            makanan.append(b)\n",
        "\n",
        "    return elektronik, pakaian, makanan\n",
        "\n",
        "# Fungsi untuk sorting dan mengkategorikan barang (Rekursif)\n",
        "def sort_and_categorize_recursive(barang):\n",
        "    if len(barang) > 0:\n",
        "        barang_sorted = quick_sort(barang)\n",
        "        top30 = barang_sorted[:30]\n",
        "        return categorize_barang(top30)\n",
        "    else:\n",
        "        return [], [], []\n",
        "\n",
        "# Fungsi untuk sorting dan mengkategorikan barang (Iteratif)\n",
        "def sort_and_categorize_iterative(barang):\n",
        "    selection_sort(barang)\n",
        "    top30 = barang[:30]\n",
        "    return categorize_barang(top30)\n",
        "\n"
      ]
    },
    {
      "cell_type": "code",
      "execution_count": 5,
      "metadata": {
        "colab": {
          "base_uri": "https://localhost:8080/",
          "height": 1000
        },
        "id": "XwElnAdBZ7lm",
        "outputId": "1ef1bdbb-91bd-4692-e65c-bb76991a9b50"
      },
      "outputs": [],
      "source": [
        "# Fungsi utama\n",
        "def main():\n",
        "    input_sizes = range(100, 5000, 100)\n",
        "    runtimes_recursive = []\n",
        "    runtimes_iterative = []\n",
        "\n",
        "    for size in input_sizes:\n",
        "        barang = generate_random_barang(size)\n",
        "\n",
        "        # Rekursif\n",
        "        barang_recursive = barang.copy()\n",
        "        start_time = time.time()\n",
        "        sort_and_categorize_recursive(barang_recursive)\n",
        "        runtimes_recursive.append(time.time() - start_time)\n",
        "\n",
        "        # Iteratif\n",
        "        barang_iterative = barang.copy()\n",
        "        start_time = time.time()\n",
        "        sort_and_categorize_iterative(barang_iterative)\n",
        "        runtimes_iterative.append(time.time() - start_time)\n",
        "\n",
        "    # Membuat DataFrame untuk tabel perbandingan\n",
        "    df = pd.DataFrame({\n",
        "        'Ukuran Input': input_sizes,\n",
        "        'Rekursif (Quick Sort)': runtimes_recursive,\n",
        "        'Iteratif (Selection Sort)': runtimes_iterative\n",
        "    })\n",
        "\n",
        "    # Menampilkan tabel\n",
        "    print(df)\n",
        "\n",
        "    # Plot perbandingan runtime\n",
        "    sns.set_theme(style=\"whitegrid\")\n",
        "    plt.figure(figsize=(12, 6))\n",
        "    sns.lineplot(x=input_sizes, y=runtimes_recursive, marker='o', label=\"Rekursif (Quick Sort)\", color=\"blue\")\n",
        "    sns.lineplot(x=input_sizes, y=runtimes_iterative, marker='o', label=\"Iteratif (Selection Sort)\", color=\"red\")\n",
        "    plt.title(\"Perbandingan Waktu Eksekusi: Rekursif vs Iteratif\", fontsize=14)\n",
        "    plt.xlabel(\"Ukuran Input (Jumlah Barang)\", fontsize=12)\n",
        "    plt.ylabel(\"Waktu Eksekusi (detik)\", fontsize=12)\n",
        "    plt.legend(title=\"Metode\", fontsize=10)\n",
        "    plt.grid(True)\n",
        "    plt.show()\n",
        "\n",
        "if __name__ == \"__main__\":\n",
        "    main()\n"
      ]
    }
  ],
  "metadata": {
    "accelerator": "GPU",
    "colab": {
      "gpuType": "T4",
      "provenance": []
    },
    "kernelspec": {
      "display_name": "Python 3",
      "name": "python3"
    },
    "language_info": {
      "codemirror_mode": {
        "name": "ipython",
        "version": 3
      },
      "file_extension": ".py",
      "mimetype": "text/x-python",
      "name": "python",
      "nbconvert_exporter": "python",
      "pygments_lexer": "ipython3",
      "version": "3.11.5"
    }
  },
  "nbformat": 4,
  "nbformat_minor": 0
}
